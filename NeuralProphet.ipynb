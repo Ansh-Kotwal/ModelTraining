{
 "cells": [
  {
   "cell_type": "code",
   "execution_count": null,
   "id": "0bca35c0-b447-4e8f-a072-157e0b4d84e0",
   "metadata": {},
   "outputs": [],
   "source": [
    "import warnings; \n",
    "warnings.simplefilter('ignore')"
   ]
  },
  {
   "cell_type": "code",
   "execution_count": null,
   "id": "24f83fd5-8709-4a62-9ae6-47d6ac4b7903",
   "metadata": {},
   "outputs": [],
   "source": [
    "import pandas as pd\n",
    "from prophet import Prophet"
   ]
  },
  {
   "cell_type": "code",
   "execution_count": null,
   "id": "40c981be-5a9e-462c-a8db-153340741d31",
   "metadata": {},
   "outputs": [],
   "source": [
    "train = pd.read_excel('../DataPreProcessing/ptrain.xlsx')\n",
    "test = pd.read_excel('../DataPreProcessing/ptest.xlsx')"
   ]
  },
  {
   "cell_type": "code",
   "execution_count": null,
   "id": "dff2540f-8514-45e4-979c-209e6778bac8",
   "metadata": {},
   "outputs": [],
   "source": [
    "x_train = train['temperature_2m (°C)']"
   ]
  },
  {
   "cell_type": "code",
   "execution_count": null,
   "id": "90ab1599-c540-4be1-a4d2-f2d56623003b",
   "metadata": {},
   "outputs": [],
   "source": [
    "df = pd.DataFrame(columns=['Date', 'temperature_2m (°C)'])\n",
    "df['Date'] = train['Date']\n",
    "df['temperature_2m (°C)' ] = train['temperature_2m (°C)' ]"
   ]
  },
  {
   "cell_type": "code",
   "execution_count": null,
   "id": "e010fb23-456b-41e6-94ad-c2815b03e19d",
   "metadata": {},
   "outputs": [],
   "source": [
    "df"
   ]
  },
  {
   "cell_type": "code",
   "execution_count": null,
   "id": "f4ccde76-befb-45ec-9eb9-dc0338c89801",
   "metadata": {},
   "outputs": [],
   "source": [
    "m = Prophet(interval_width=0.95, daily_seasonality=True)\n",
    "model = m.fit(df)"
   ]
  }
 ],
 "metadata": {
  "kernelspec": {
   "display_name": "Python 3 (ipykernel)",
   "language": "python",
   "name": "python3"
  },
  "language_info": {
   "codemirror_mode": {
    "name": "ipython",
    "version": 3
   },
   "file_extension": ".py",
   "mimetype": "text/x-python",
   "name": "python",
   "nbconvert_exporter": "python",
   "pygments_lexer": "ipython3",
   "version": "3.12.2"
  }
 },
 "nbformat": 4,
 "nbformat_minor": 5
}
