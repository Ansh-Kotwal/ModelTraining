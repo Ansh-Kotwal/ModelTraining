{
 "cells": [
  {
   "cell_type": "code",
   "execution_count": 1,
   "id": "8c43e773-dfd2-46ca-ad78-c750b6b77498",
   "metadata": {},
   "outputs": [],
   "source": [
    "import pandas as pd\n",
    "import numpy as np\n",
    "from catboost import CatBoostRegressor\n",
    "from sklearn.metrics import mean_squared_error\n",
    "from sklearn.metrics import mean_absolute_error"
   ]
  },
  {
   "cell_type": "code",
   "execution_count": 2,
   "id": "ab18f473-cf80-4b54-b125-9ca4ef325ad4",
   "metadata": {},
   "outputs": [],
   "source": [
    "train = pd.read_excel('../DataPreProcessing/ptrain.xlsx')\n",
    "test = pd.read_excel('../DataPreProcessing/ptest.xlsx')"
   ]
  },
  {
   "cell_type": "code",
   "execution_count": 3,
   "id": "6bc9b191-0cef-495c-93d7-59500f73c2f9",
   "metadata": {},
   "outputs": [
    {
     "name": "stdout",
     "output_type": "stream",
     "text": [
      "<class 'pandas.core.frame.DataFrame'>\n",
      "RangeIndex: 7000 entries, 0 to 6999\n",
      "Data columns (total 31 columns):\n",
      " #   Column                              Non-Null Count  Dtype         \n",
      "---  ------                              --------------  -----         \n",
      " 0   temperature_2m (°C)                 7000 non-null   float64       \n",
      " 1   relative_humidity_2m (%)            7000 non-null   float64       \n",
      " 2   dew_point_2m (°C)                   7000 non-null   float64       \n",
      " 3   apparent_temperature (°C)           7000 non-null   float64       \n",
      " 4   precipitation (mm)                  7000 non-null   float64       \n",
      " 5   rain (mm)                           7000 non-null   float64       \n",
      " 6   snowfall (cm)                       7000 non-null   float64       \n",
      " 7   snow_depth (m)                      7000 non-null   int64         \n",
      " 8   weather_code (wmo code)             7000 non-null   float64       \n",
      " 9   pressure_msl (hPa)                  7000 non-null   float64       \n",
      " 10  surface_pressure (hPa)              7000 non-null   float64       \n",
      " 11  cloud_cover (%)                     7000 non-null   float64       \n",
      " 12  cloud_cover_low (%)                 7000 non-null   float64       \n",
      " 13  cloud_cover_mid (%)                 7000 non-null   float64       \n",
      " 14  cloud_cover_high (%)                7000 non-null   float64       \n",
      " 15  et0_fao_evapotranspiration (mm)     7000 non-null   float64       \n",
      " 16  vapour_pressure_deficit (kPa)       7000 non-null   float64       \n",
      " 17  wind_speed_10m (km/h)               7000 non-null   float64       \n",
      " 18  wind_speed_100m (km/h)              7000 non-null   float64       \n",
      " 19  wind_direction_10m (°)              7000 non-null   float64       \n",
      " 20  wind_direction_100m (°)             7000 non-null   float64       \n",
      " 21  wind_gusts_10m (km/h)               7000 non-null   float64       \n",
      " 22  soil_temperature_0_to_7cm (°C)      7000 non-null   float64       \n",
      " 23  soil_temperature_7_to_28cm (°C)     7000 non-null   float64       \n",
      " 24  soil_temperature_28_to_100cm (°C)   7000 non-null   float64       \n",
      " 25  soil_temperature_100_to_255cm (°C)  7000 non-null   float64       \n",
      " 26  soil_moisture_0_to_7cm (m³/m³)      7000 non-null   float64       \n",
      " 27  soil_moisture_7_to_28cm (m³/m³)     7000 non-null   float64       \n",
      " 28  soil_moisture_28_to_100cm (m³/m³)   7000 non-null   float64       \n",
      " 29  soil_moisture_100_to_255cm (m³/m³)  7000 non-null   float64       \n",
      " 30  Date                                7000 non-null   datetime64[ns]\n",
      "dtypes: datetime64[ns](1), float64(29), int64(1)\n",
      "memory usage: 1.7 MB\n"
     ]
    }
   ],
   "source": [
    "train.info()"
   ]
  },
  {
   "cell_type": "code",
   "execution_count": 4,
   "id": "31ba11bf-8076-4697-a6d2-394204a078da",
   "metadata": {},
   "outputs": [],
   "source": [
    "x_train = train.drop(['temperature_2m (°C)', 'Date'] , axis = 1)\n",
    "y_train = train['temperature_2m (°C)']\n",
    "\n",
    "x_test = test.drop(['temperature_2m (°C)' , 'Date'], axis = 1)\n",
    "y_test = test['temperature_2m (°C)']"
   ]
  },
  {
   "cell_type": "code",
   "execution_count": 5,
   "id": "354e0b76-9555-4388-bade-b62c9226c89c",
   "metadata": {},
   "outputs": [
    {
     "name": "stdout",
     "output_type": "stream",
     "text": [
      "Learning rate set to 0.361997\n",
      "0:\ttotal: 140ms\tremaining: 13.9s\n",
      "1:\ttotal: 144ms\tremaining: 7.08s\n",
      "2:\ttotal: 148ms\tremaining: 4.79s\n",
      "3:\ttotal: 151ms\tremaining: 3.63s\n",
      "4:\ttotal: 155ms\tremaining: 2.95s\n",
      "5:\ttotal: 159ms\tremaining: 2.49s\n",
      "6:\ttotal: 162ms\tremaining: 2.15s\n",
      "7:\ttotal: 166ms\tremaining: 1.91s\n",
      "8:\ttotal: 169ms\tremaining: 1.71s\n",
      "9:\ttotal: 173ms\tremaining: 1.55s\n",
      "10:\ttotal: 176ms\tremaining: 1.42s\n",
      "11:\ttotal: 179ms\tremaining: 1.31s\n",
      "12:\ttotal: 183ms\tremaining: 1.22s\n",
      "13:\ttotal: 186ms\tremaining: 1.14s\n",
      "14:\ttotal: 189ms\tremaining: 1.07s\n",
      "15:\ttotal: 193ms\tremaining: 1.01s\n",
      "16:\ttotal: 196ms\tremaining: 957ms\n",
      "17:\ttotal: 200ms\tremaining: 909ms\n",
      "18:\ttotal: 203ms\tremaining: 865ms\n",
      "19:\ttotal: 206ms\tremaining: 826ms\n",
      "20:\ttotal: 210ms\tremaining: 789ms\n",
      "21:\ttotal: 214ms\tremaining: 757ms\n",
      "22:\ttotal: 217ms\tremaining: 726ms\n",
      "23:\ttotal: 220ms\tremaining: 697ms\n",
      "24:\ttotal: 223ms\tremaining: 670ms\n",
      "25:\ttotal: 226ms\tremaining: 645ms\n",
      "26:\ttotal: 230ms\tremaining: 622ms\n",
      "27:\ttotal: 233ms\tremaining: 600ms\n",
      "28:\ttotal: 237ms\tremaining: 579ms\n",
      "29:\ttotal: 240ms\tremaining: 560ms\n",
      "30:\ttotal: 243ms\tremaining: 541ms\n",
      "31:\ttotal: 246ms\tremaining: 524ms\n",
      "32:\ttotal: 250ms\tremaining: 507ms\n",
      "33:\ttotal: 253ms\tremaining: 490ms\n",
      "34:\ttotal: 255ms\tremaining: 474ms\n",
      "35:\ttotal: 259ms\tremaining: 460ms\n",
      "36:\ttotal: 261ms\tremaining: 445ms\n",
      "37:\ttotal: 264ms\tremaining: 431ms\n",
      "38:\ttotal: 267ms\tremaining: 418ms\n",
      "39:\ttotal: 270ms\tremaining: 405ms\n",
      "40:\ttotal: 273ms\tremaining: 393ms\n",
      "41:\ttotal: 276ms\tremaining: 381ms\n",
      "42:\ttotal: 279ms\tremaining: 370ms\n",
      "43:\ttotal: 282ms\tremaining: 359ms\n",
      "44:\ttotal: 284ms\tremaining: 348ms\n",
      "45:\ttotal: 288ms\tremaining: 338ms\n",
      "46:\ttotal: 290ms\tremaining: 327ms\n",
      "47:\ttotal: 293ms\tremaining: 318ms\n",
      "48:\ttotal: 296ms\tremaining: 308ms\n",
      "49:\ttotal: 299ms\tremaining: 299ms\n",
      "50:\ttotal: 302ms\tremaining: 291ms\n",
      "51:\ttotal: 306ms\tremaining: 282ms\n",
      "52:\ttotal: 309ms\tremaining: 274ms\n",
      "53:\ttotal: 312ms\tremaining: 266ms\n",
      "54:\ttotal: 314ms\tremaining: 257ms\n",
      "55:\ttotal: 318ms\tremaining: 250ms\n",
      "56:\ttotal: 321ms\tremaining: 242ms\n",
      "57:\ttotal: 324ms\tremaining: 235ms\n",
      "58:\ttotal: 327ms\tremaining: 227ms\n",
      "59:\ttotal: 330ms\tremaining: 220ms\n",
      "60:\ttotal: 334ms\tremaining: 213ms\n",
      "61:\ttotal: 337ms\tremaining: 207ms\n",
      "62:\ttotal: 340ms\tremaining: 200ms\n",
      "63:\ttotal: 343ms\tremaining: 193ms\n",
      "64:\ttotal: 346ms\tremaining: 187ms\n",
      "65:\ttotal: 349ms\tremaining: 180ms\n",
      "66:\ttotal: 352ms\tremaining: 174ms\n",
      "67:\ttotal: 355ms\tremaining: 167ms\n",
      "68:\ttotal: 358ms\tremaining: 161ms\n",
      "69:\ttotal: 361ms\tremaining: 155ms\n",
      "70:\ttotal: 364ms\tremaining: 149ms\n",
      "71:\ttotal: 367ms\tremaining: 143ms\n",
      "72:\ttotal: 370ms\tremaining: 137ms\n",
      "73:\ttotal: 373ms\tremaining: 131ms\n",
      "74:\ttotal: 376ms\tremaining: 125ms\n",
      "75:\ttotal: 379ms\tremaining: 120ms\n",
      "76:\ttotal: 382ms\tremaining: 114ms\n",
      "77:\ttotal: 385ms\tremaining: 109ms\n",
      "78:\ttotal: 388ms\tremaining: 103ms\n",
      "79:\ttotal: 390ms\tremaining: 97.6ms\n",
      "80:\ttotal: 394ms\tremaining: 92.3ms\n",
      "81:\ttotal: 396ms\tremaining: 87ms\n",
      "82:\ttotal: 399ms\tremaining: 81.8ms\n",
      "83:\ttotal: 402ms\tremaining: 76.5ms\n",
      "84:\ttotal: 405ms\tremaining: 71.4ms\n",
      "85:\ttotal: 407ms\tremaining: 66.3ms\n",
      "86:\ttotal: 411ms\tremaining: 61.4ms\n",
      "87:\ttotal: 414ms\tremaining: 56.4ms\n",
      "88:\ttotal: 417ms\tremaining: 51.5ms\n",
      "89:\ttotal: 419ms\tremaining: 46.6ms\n",
      "90:\ttotal: 422ms\tremaining: 41.8ms\n",
      "91:\ttotal: 425ms\tremaining: 37ms\n",
      "92:\ttotal: 428ms\tremaining: 32.2ms\n",
      "93:\ttotal: 431ms\tremaining: 27.5ms\n",
      "94:\ttotal: 433ms\tremaining: 22.8ms\n",
      "95:\ttotal: 436ms\tremaining: 18.2ms\n",
      "96:\ttotal: 439ms\tremaining: 13.6ms\n",
      "97:\ttotal: 441ms\tremaining: 9.01ms\n",
      "98:\ttotal: 444ms\tremaining: 4.48ms\n",
      "99:\ttotal: 447ms\tremaining: 0us\n"
     ]
    },
    {
     "data": {
      "text/plain": [
       "<catboost.core.CatBoostRegressor at 0x2007f4ff4a0>"
      ]
     },
     "execution_count": 5,
     "metadata": {},
     "output_type": "execute_result"
    }
   ],
   "source": [
    "cat = CatBoostRegressor(iterations = 100 , eval_metric=\"AUC\" )\n",
    "cat.fit(x_train , y_train)"
   ]
  },
  {
   "cell_type": "code",
   "execution_count": 6,
   "id": "052045cc-6201-4664-aca7-9a14422fdc76",
   "metadata": {},
   "outputs": [
    {
     "data": {
      "text/plain": [
       "array([13.81058093, 13.62417476, 13.01712326, ..., 14.49181208,\n",
       "       15.28904689, 16.57316402])"
      ]
     },
     "execution_count": 6,
     "metadata": {},
     "output_type": "execute_result"
    }
   ],
   "source": [
    "pred = cat.predict(x_test)\n",
    "pred"
   ]
  },
  {
   "cell_type": "code",
   "execution_count": 8,
   "id": "8789687f-7ba1-4517-9ff5-ccc2394cc127",
   "metadata": {},
   "outputs": [
    {
     "data": {
      "text/html": [
       "<div>\n",
       "<style scoped>\n",
       "    .dataframe tbody tr th:only-of-type {\n",
       "        vertical-align: middle;\n",
       "    }\n",
       "\n",
       "    .dataframe tbody tr th {\n",
       "        vertical-align: top;\n",
       "    }\n",
       "\n",
       "    .dataframe thead th {\n",
       "        text-align: right;\n",
       "    }\n",
       "</style>\n",
       "<table border=\"1\" class=\"dataframe\">\n",
       "  <thead>\n",
       "    <tr style=\"text-align: right;\">\n",
       "      <th></th>\n",
       "      <th>actual</th>\n",
       "      <th>predicted</th>\n",
       "      <th>error</th>\n",
       "    </tr>\n",
       "  </thead>\n",
       "  <tbody>\n",
       "    <tr>\n",
       "      <th>0</th>\n",
       "      <td>13.770833</td>\n",
       "      <td>13.810581</td>\n",
       "      <td>0.039748</td>\n",
       "    </tr>\n",
       "    <tr>\n",
       "      <th>1</th>\n",
       "      <td>13.529167</td>\n",
       "      <td>13.624175</td>\n",
       "      <td>0.095008</td>\n",
       "    </tr>\n",
       "    <tr>\n",
       "      <th>2</th>\n",
       "      <td>13.283333</td>\n",
       "      <td>13.017123</td>\n",
       "      <td>-0.266210</td>\n",
       "    </tr>\n",
       "    <tr>\n",
       "      <th>3</th>\n",
       "      <td>13.766667</td>\n",
       "      <td>13.440110</td>\n",
       "      <td>-0.326557</td>\n",
       "    </tr>\n",
       "    <tr>\n",
       "      <th>4</th>\n",
       "      <td>14.500000</td>\n",
       "      <td>14.372891</td>\n",
       "      <td>-0.127109</td>\n",
       "    </tr>\n",
       "    <tr>\n",
       "      <th>...</th>\n",
       "      <td>...</td>\n",
       "      <td>...</td>\n",
       "      <td>...</td>\n",
       "    </tr>\n",
       "    <tr>\n",
       "      <th>1822</th>\n",
       "      <td>14.633333</td>\n",
       "      <td>15.031515</td>\n",
       "      <td>0.398182</td>\n",
       "    </tr>\n",
       "    <tr>\n",
       "      <th>1823</th>\n",
       "      <td>12.187500</td>\n",
       "      <td>12.153831</td>\n",
       "      <td>-0.033669</td>\n",
       "    </tr>\n",
       "    <tr>\n",
       "      <th>1824</th>\n",
       "      <td>14.504167</td>\n",
       "      <td>14.491812</td>\n",
       "      <td>-0.012355</td>\n",
       "    </tr>\n",
       "    <tr>\n",
       "      <th>1825</th>\n",
       "      <td>15.412500</td>\n",
       "      <td>15.289047</td>\n",
       "      <td>-0.123453</td>\n",
       "    </tr>\n",
       "    <tr>\n",
       "      <th>1826</th>\n",
       "      <td>16.754167</td>\n",
       "      <td>16.573164</td>\n",
       "      <td>-0.181003</td>\n",
       "    </tr>\n",
       "  </tbody>\n",
       "</table>\n",
       "<p>1827 rows × 3 columns</p>\n",
       "</div>"
      ],
      "text/plain": [
       "         actual  predicted     error\n",
       "0     13.770833  13.810581  0.039748\n",
       "1     13.529167  13.624175  0.095008\n",
       "2     13.283333  13.017123 -0.266210\n",
       "3     13.766667  13.440110 -0.326557\n",
       "4     14.500000  14.372891 -0.127109\n",
       "...         ...        ...       ...\n",
       "1822  14.633333  15.031515  0.398182\n",
       "1823  12.187500  12.153831 -0.033669\n",
       "1824  14.504167  14.491812 -0.012355\n",
       "1825  15.412500  15.289047 -0.123453\n",
       "1826  16.754167  16.573164 -0.181003\n",
       "\n",
       "[1827 rows x 3 columns]"
      ]
     },
     "execution_count": 8,
     "metadata": {},
     "output_type": "execute_result"
    }
   ],
   "source": [
    "predictions = pd.DataFrame()\n",
    "predictions['actual'] = y_test\n",
    "predictions['predicted'] = pred\n",
    "predictions ['error'] = predictions['predicted'] - predictions['actual']\n",
    "predictions"
   ]
  },
  {
   "cell_type": "code",
   "execution_count": 9,
   "id": "66001fb7-6dcc-48e4-9e04-445838345a6c",
   "metadata": {},
   "outputs": [
    {
     "data": {
      "text/plain": [
       "array([13.81058093, 13.62417476, 13.01712326, ..., 14.49181208,\n",
       "       15.28904689, 16.57316402])"
      ]
     },
     "execution_count": 9,
     "metadata": {},
     "output_type": "execute_result"
    }
   ],
   "source": [
    "pred = cat.predict(x_test)\n",
    "pred"
   ]
  },
  {
   "cell_type": "code",
   "execution_count": 10,
   "id": "3eca7ecf-bb88-48b5-976c-83e0f23cb646",
   "metadata": {},
   "outputs": [
    {
     "data": {
      "text/html": [
       "<div>\n",
       "<style scoped>\n",
       "    .dataframe tbody tr th:only-of-type {\n",
       "        vertical-align: middle;\n",
       "    }\n",
       "\n",
       "    .dataframe tbody tr th {\n",
       "        vertical-align: top;\n",
       "    }\n",
       "\n",
       "    .dataframe thead th {\n",
       "        text-align: right;\n",
       "    }\n",
       "</style>\n",
       "<table border=\"1\" class=\"dataframe\">\n",
       "  <thead>\n",
       "    <tr style=\"text-align: right;\">\n",
       "      <th></th>\n",
       "      <th>actual</th>\n",
       "      <th>predicted</th>\n",
       "      <th>error</th>\n",
       "    </tr>\n",
       "  </thead>\n",
       "  <tbody>\n",
       "    <tr>\n",
       "      <th>0</th>\n",
       "      <td>13.770833</td>\n",
       "      <td>13.810581</td>\n",
       "      <td>0.039748</td>\n",
       "    </tr>\n",
       "    <tr>\n",
       "      <th>1</th>\n",
       "      <td>13.529167</td>\n",
       "      <td>13.624175</td>\n",
       "      <td>0.095008</td>\n",
       "    </tr>\n",
       "    <tr>\n",
       "      <th>2</th>\n",
       "      <td>13.283333</td>\n",
       "      <td>13.017123</td>\n",
       "      <td>-0.266210</td>\n",
       "    </tr>\n",
       "    <tr>\n",
       "      <th>3</th>\n",
       "      <td>13.766667</td>\n",
       "      <td>13.440110</td>\n",
       "      <td>-0.326557</td>\n",
       "    </tr>\n",
       "    <tr>\n",
       "      <th>4</th>\n",
       "      <td>14.500000</td>\n",
       "      <td>14.372891</td>\n",
       "      <td>-0.127109</td>\n",
       "    </tr>\n",
       "    <tr>\n",
       "      <th>...</th>\n",
       "      <td>...</td>\n",
       "      <td>...</td>\n",
       "      <td>...</td>\n",
       "    </tr>\n",
       "    <tr>\n",
       "      <th>1822</th>\n",
       "      <td>14.633333</td>\n",
       "      <td>15.031515</td>\n",
       "      <td>0.398182</td>\n",
       "    </tr>\n",
       "    <tr>\n",
       "      <th>1823</th>\n",
       "      <td>12.187500</td>\n",
       "      <td>12.153831</td>\n",
       "      <td>-0.033669</td>\n",
       "    </tr>\n",
       "    <tr>\n",
       "      <th>1824</th>\n",
       "      <td>14.504167</td>\n",
       "      <td>14.491812</td>\n",
       "      <td>-0.012355</td>\n",
       "    </tr>\n",
       "    <tr>\n",
       "      <th>1825</th>\n",
       "      <td>15.412500</td>\n",
       "      <td>15.289047</td>\n",
       "      <td>-0.123453</td>\n",
       "    </tr>\n",
       "    <tr>\n",
       "      <th>1826</th>\n",
       "      <td>16.754167</td>\n",
       "      <td>16.573164</td>\n",
       "      <td>-0.181003</td>\n",
       "    </tr>\n",
       "  </tbody>\n",
       "</table>\n",
       "<p>1827 rows × 3 columns</p>\n",
       "</div>"
      ],
      "text/plain": [
       "         actual  predicted     error\n",
       "0     13.770833  13.810581  0.039748\n",
       "1     13.529167  13.624175  0.095008\n",
       "2     13.283333  13.017123 -0.266210\n",
       "3     13.766667  13.440110 -0.326557\n",
       "4     14.500000  14.372891 -0.127109\n",
       "...         ...        ...       ...\n",
       "1822  14.633333  15.031515  0.398182\n",
       "1823  12.187500  12.153831 -0.033669\n",
       "1824  14.504167  14.491812 -0.012355\n",
       "1825  15.412500  15.289047 -0.123453\n",
       "1826  16.754167  16.573164 -0.181003\n",
       "\n",
       "[1827 rows x 3 columns]"
      ]
     },
     "execution_count": 10,
     "metadata": {},
     "output_type": "execute_result"
    }
   ],
   "source": [
    "predictions = pd.DataFrame()\n",
    "predictions['actual'] = y_test\n",
    "predictions['predicted'] = pred\n",
    "predictions ['error'] = predictions['predicted'] - predictions['actual']\n",
    "predictions"
   ]
  },
  {
   "cell_type": "code",
   "execution_count": 11,
   "id": "b30bc548-2761-4bed-b2a6-71c677a10a12",
   "metadata": {},
   "outputs": [
    {
     "name": "stdout",
     "output_type": "stream",
     "text": [
      "Mean Squared Error: 0.0577554025906175\n"
     ]
    }
   ],
   "source": [
    "mse = mean_squared_error(y_test, pred)\n",
    "print(f'Mean Squared Error: {mse}')\n"
   ]
  },
  {
   "cell_type": "code",
   "execution_count": 12,
   "id": "ebf2f05f-4f17-4011-b017-f6a664ce2b0c",
   "metadata": {},
   "outputs": [
    {
     "name": "stdout",
     "output_type": "stream",
     "text": [
      "Mean Absolute Error: 0.1789993356733792\n"
     ]
    }
   ],
   "source": [
    "mae = mean_absolute_error(y_test,pred)\n",
    "print(f'Mean Absolute Error: {mae}')"
   ]
  }
 ],
 "metadata": {
  "kernelspec": {
   "display_name": "Python 3 (ipykernel)",
   "language": "python",
   "name": "python3"
  },
  "language_info": {
   "codemirror_mode": {
    "name": "ipython",
    "version": 3
   },
   "file_extension": ".py",
   "mimetype": "text/x-python",
   "name": "python",
   "nbconvert_exporter": "python",
   "pygments_lexer": "ipython3",
   "version": "3.12.2"
  }
 },
 "nbformat": 4,
 "nbformat_minor": 5
}
