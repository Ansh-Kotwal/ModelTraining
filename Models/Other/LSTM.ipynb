{
 "cells": [
  {
   "cell_type": "code",
   "execution_count": 1,
   "id": "4d7e42d0-9c83-4058-80a6-ec8b4eb4f000",
   "metadata": {},
   "outputs": [],
   "source": [
    "import tensorflow as tf\n",
    "import pandas as pd\n",
    "import numpy as np\n",
    "from sklearn.metrics import mean_absolute_error"
   ]
  },
  {
   "cell_type": "code",
   "execution_count": 2,
   "id": "9a446e2e-26c6-4da4-b89e-051b060778bd",
   "metadata": {},
   "outputs": [],
   "source": [
    "train = pd.read_excel('../DataPreProcessing/ptrain.xlsx')\n",
    "test = pd.read_excel('../DataPreProcessing/ptest.xlsx')"
   ]
  },
  {
   "cell_type": "code",
   "execution_count": 16,
   "id": "e446f794-2cad-4f9d-b398-5b7bbe324fc5",
   "metadata": {},
   "outputs": [
    {
     "name": "stdout",
     "output_type": "stream",
     "text": [
      "<class 'pandas.core.frame.DataFrame'>\n",
      "RangeIndex: 7000 entries, 0 to 6999\n",
      "Data columns (total 31 columns):\n",
      " #   Column                              Non-Null Count  Dtype         \n",
      "---  ------                              --------------  -----         \n",
      " 0   temperature_2m (°C)                 7000 non-null   float64       \n",
      " 1   relative_humidity_2m (%)            7000 non-null   float64       \n",
      " 2   dew_point_2m (°C)                   7000 non-null   float64       \n",
      " 3   apparent_temperature (°C)           7000 non-null   float64       \n",
      " 4   precipitation (mm)                  7000 non-null   float64       \n",
      " 5   rain (mm)                           7000 non-null   float64       \n",
      " 6   snowfall (cm)                       7000 non-null   float64       \n",
      " 7   snow_depth (m)                      7000 non-null   int64         \n",
      " 8   weather_code (wmo code)             7000 non-null   float64       \n",
      " 9   pressure_msl (hPa)                  7000 non-null   float64       \n",
      " 10  surface_pressure (hPa)              7000 non-null   float64       \n",
      " 11  cloud_cover (%)                     7000 non-null   float64       \n",
      " 12  cloud_cover_low (%)                 7000 non-null   float64       \n",
      " 13  cloud_cover_mid (%)                 7000 non-null   float64       \n",
      " 14  cloud_cover_high (%)                7000 non-null   float64       \n",
      " 15  et0_fao_evapotranspiration (mm)     7000 non-null   float64       \n",
      " 16  vapour_pressure_deficit (kPa)       7000 non-null   float64       \n",
      " 17  wind_speed_10m (km/h)               7000 non-null   float64       \n",
      " 18  wind_speed_100m (km/h)              7000 non-null   float64       \n",
      " 19  wind_direction_10m (°)              7000 non-null   float64       \n",
      " 20  wind_direction_100m (°)             7000 non-null   float64       \n",
      " 21  wind_gusts_10m (km/h)               7000 non-null   float64       \n",
      " 22  soil_temperature_0_to_7cm (°C)      7000 non-null   float64       \n",
      " 23  soil_temperature_7_to_28cm (°C)     7000 non-null   float64       \n",
      " 24  soil_temperature_28_to_100cm (°C)   7000 non-null   float64       \n",
      " 25  soil_temperature_100_to_255cm (°C)  7000 non-null   float64       \n",
      " 26  soil_moisture_0_to_7cm (m³/m³)      7000 non-null   float64       \n",
      " 27  soil_moisture_7_to_28cm (m³/m³)     7000 non-null   float64       \n",
      " 28  soil_moisture_28_to_100cm (m³/m³)   7000 non-null   float64       \n",
      " 29  soil_moisture_100_to_255cm (m³/m³)  7000 non-null   float64       \n",
      " 30  Date                                7000 non-null   datetime64[ns]\n",
      "dtypes: datetime64[ns](1), float64(29), int64(1)\n",
      "memory usage: 1.7 MB\n"
     ]
    }
   ],
   "source": [
    "train.info()"
   ]
  },
  {
   "cell_type": "code",
   "execution_count": 14,
   "id": "65731dc6-d788-4611-82ec-09558c31aa3b",
   "metadata": {},
   "outputs": [
    {
     "data": {
      "text/plain": [
       "(7000, 29)"
      ]
     },
     "execution_count": 14,
     "metadata": {},
     "output_type": "execute_result"
    }
   ],
   "source": [
    "x_train = train.drop(['temperature_2m (°C)', 'Date'] , axis = 1)\n",
    "y_train = train['temperature_2m (°C)']\n",
    "\n",
    "x_test = test.drop(['temperature_2m (°C)' , 'Date'], axis = 1)\n",
    "y_test = test['temperature_2m (°C)']\n",
    "\n",
    "x_train.shape"
   ]
  },
  {
   "cell_type": "code",
   "execution_count": 10,
   "id": "ffcf1133-d5c9-45f6-9337-125eb7daa46b",
   "metadata": {},
   "outputs": [],
   "source": [
    "# X_train = x_train.values.reshape((x_train.shape[0], 1, x_train.shape[1])) "
   ]
  },
  {
   "cell_type": "code",
   "execution_count": 15,
   "id": "ac94f677-c253-4d19-bf07-4a8cdf8137ef",
   "metadata": {},
   "outputs": [],
   "source": [
    "from tensorflow.keras.models import Sequential\n",
    "from tensorflow.keras.layers import *\n",
    "from tensorflow.keras.callbacks import ModelCheckpoint\n",
    "from tensorflow.keras.losses import MeanSquaredError\n",
    "from tensorflow.keras.metrics import RootMeanSquaredError\n",
    "from tensorflow.keras.optimizers import Adam"
   ]
  },
  {
   "cell_type": "code",
   "execution_count": 22,
   "id": "e7ccad91-5f2c-4fcc-9794-e044a5598f16",
   "metadata": {},
   "outputs": [],
   "source": [
    "model = Sequential()\n",
    "model.add(LSTM(50)) \n",
    "model.add(Dense(1)) "
   ]
  },
  {
   "cell_type": "code",
   "execution_count": 23,
   "id": "3ef56fa8-920d-4ff2-bbc0-84918e073565",
   "metadata": {},
   "outputs": [],
   "source": [
    "cp1 = ModelCheckpoint('model1/abc.keras', save_best_only=True)\n",
    "model.compile(loss=MeanSquaredError(), optimizer=Adam(learning_rate=0.0001), metrics=[RootMeanSquaredError()])"
   ]
  },
  {
   "cell_type": "code",
   "execution_count": 24,
   "id": "f5fbfca2-7f28-44d6-a136-212fd2ce2db0",
   "metadata": {},
   "outputs": [
    {
     "name": "stdout",
     "output_type": "stream",
     "text": [
      "Epoch 1/100\n"
     ]
    },
    {
     "ename": "ValueError",
     "evalue": "Input 0 of layer \"lstm_3\" is incompatible with the layer: expected ndim=3, found ndim=2. Full shape received: (None, 29)",
     "output_type": "error",
     "traceback": [
      "\u001b[1;31m---------------------------------------------------------------------------\u001b[0m",
      "\u001b[1;31mValueError\u001b[0m                                Traceback (most recent call last)",
      "Cell \u001b[1;32mIn[24], line 1\u001b[0m\n\u001b[1;32m----> 1\u001b[0m \u001b[43mmodel\u001b[49m\u001b[38;5;241;43m.\u001b[39;49m\u001b[43mfit\u001b[49m\u001b[43m(\u001b[49m\u001b[43mx_train\u001b[49m\u001b[43m,\u001b[49m\u001b[43m \u001b[49m\u001b[43my_train\u001b[49m\u001b[43m,\u001b[49m\u001b[43m \u001b[49m\u001b[43mepochs\u001b[49m\u001b[38;5;241;43m=\u001b[39;49m\u001b[38;5;241;43m100\u001b[39;49m\u001b[43m,\u001b[49m\u001b[43m \u001b[49m\u001b[43mcallbacks\u001b[49m\u001b[38;5;241;43m=\u001b[39;49m\u001b[43m[\u001b[49m\u001b[43mcp1\u001b[49m\u001b[43m]\u001b[49m\u001b[43m)\u001b[49m \n",
      "File \u001b[1;32m~\\AppData\\Local\\Programs\\Python\\Python312\\Lib\\site-packages\\keras\\src\\utils\\traceback_utils.py:123\u001b[0m, in \u001b[0;36mfilter_traceback.<locals>.error_handler\u001b[1;34m(*args, **kwargs)\u001b[0m\n\u001b[0;32m    120\u001b[0m     filtered_tb \u001b[38;5;241m=\u001b[39m _process_traceback_frames(e\u001b[38;5;241m.\u001b[39m__traceback__)\n\u001b[0;32m    121\u001b[0m     \u001b[38;5;66;03m# To get the full stack trace, call:\u001b[39;00m\n\u001b[0;32m    122\u001b[0m     \u001b[38;5;66;03m# `keras.config.disable_traceback_filtering()`\u001b[39;00m\n\u001b[1;32m--> 123\u001b[0m     \u001b[38;5;28;01mraise\u001b[39;00m e\u001b[38;5;241m.\u001b[39mwith_traceback(filtered_tb) \u001b[38;5;28;01mfrom\u001b[39;00m \u001b[38;5;28;01mNone\u001b[39;00m\n\u001b[0;32m    124\u001b[0m \u001b[38;5;28;01mfinally\u001b[39;00m:\n\u001b[0;32m    125\u001b[0m     \u001b[38;5;28;01mdel\u001b[39;00m filtered_tb\n",
      "File \u001b[1;32m~\\AppData\\Local\\Programs\\Python\\Python312\\Lib\\site-packages\\keras\\src\\layers\\input_spec.py:186\u001b[0m, in \u001b[0;36massert_input_compatibility\u001b[1;34m(input_spec, inputs, layer_name)\u001b[0m\n\u001b[0;32m    184\u001b[0m \u001b[38;5;28;01mif\u001b[39;00m spec\u001b[38;5;241m.\u001b[39mndim \u001b[38;5;129;01mis\u001b[39;00m \u001b[38;5;129;01mnot\u001b[39;00m \u001b[38;5;28;01mNone\u001b[39;00m \u001b[38;5;129;01mand\u001b[39;00m \u001b[38;5;129;01mnot\u001b[39;00m spec\u001b[38;5;241m.\u001b[39mallow_last_axis_squeeze:\n\u001b[0;32m    185\u001b[0m     \u001b[38;5;28;01mif\u001b[39;00m ndim \u001b[38;5;241m!=\u001b[39m spec\u001b[38;5;241m.\u001b[39mndim:\n\u001b[1;32m--> 186\u001b[0m         \u001b[38;5;28;01mraise\u001b[39;00m \u001b[38;5;167;01mValueError\u001b[39;00m(\n\u001b[0;32m    187\u001b[0m             \u001b[38;5;124mf\u001b[39m\u001b[38;5;124m'\u001b[39m\u001b[38;5;124mInput \u001b[39m\u001b[38;5;132;01m{\u001b[39;00minput_index\u001b[38;5;132;01m}\u001b[39;00m\u001b[38;5;124m of layer \u001b[39m\u001b[38;5;124m\"\u001b[39m\u001b[38;5;132;01m{\u001b[39;00mlayer_name\u001b[38;5;132;01m}\u001b[39;00m\u001b[38;5;124m\"\u001b[39m\u001b[38;5;124m \u001b[39m\u001b[38;5;124m'\u001b[39m\n\u001b[0;32m    188\u001b[0m             \u001b[38;5;124m\"\u001b[39m\u001b[38;5;124mis incompatible with the layer: \u001b[39m\u001b[38;5;124m\"\u001b[39m\n\u001b[0;32m    189\u001b[0m             \u001b[38;5;124mf\u001b[39m\u001b[38;5;124m\"\u001b[39m\u001b[38;5;124mexpected ndim=\u001b[39m\u001b[38;5;132;01m{\u001b[39;00mspec\u001b[38;5;241m.\u001b[39mndim\u001b[38;5;132;01m}\u001b[39;00m\u001b[38;5;124m, found ndim=\u001b[39m\u001b[38;5;132;01m{\u001b[39;00mndim\u001b[38;5;132;01m}\u001b[39;00m\u001b[38;5;124m. \u001b[39m\u001b[38;5;124m\"\u001b[39m\n\u001b[0;32m    190\u001b[0m             \u001b[38;5;124mf\u001b[39m\u001b[38;5;124m\"\u001b[39m\u001b[38;5;124mFull shape received: \u001b[39m\u001b[38;5;132;01m{\u001b[39;00mshape\u001b[38;5;132;01m}\u001b[39;00m\u001b[38;5;124m\"\u001b[39m\n\u001b[0;32m    191\u001b[0m         )\n\u001b[0;32m    192\u001b[0m \u001b[38;5;28;01mif\u001b[39;00m spec\u001b[38;5;241m.\u001b[39mmax_ndim \u001b[38;5;129;01mis\u001b[39;00m \u001b[38;5;129;01mnot\u001b[39;00m \u001b[38;5;28;01mNone\u001b[39;00m:\n\u001b[0;32m    193\u001b[0m     \u001b[38;5;28;01mif\u001b[39;00m ndim \u001b[38;5;129;01mis\u001b[39;00m \u001b[38;5;129;01mnot\u001b[39;00m \u001b[38;5;28;01mNone\u001b[39;00m \u001b[38;5;129;01mand\u001b[39;00m ndim \u001b[38;5;241m>\u001b[39m spec\u001b[38;5;241m.\u001b[39mmax_ndim:\n",
      "\u001b[1;31mValueError\u001b[0m: Input 0 of layer \"lstm_3\" is incompatible with the layer: expected ndim=3, found ndim=2. Full shape received: (None, 29)"
     ]
    }
   ],
   "source": [
    "model.fit(x_train, y_train, epochs=100, callbacks=[cp1]) "
   ]
  },
  {
   "cell_type": "code",
   "execution_count": null,
   "id": "8613474e-cc8c-455e-ae1b-3a9c5a173256",
   "metadata": {},
   "outputs": [],
   "source": [
    "from tensorflow.keras.models import load_model\n",
    "model1 = load_model('model1/abc.keras')"
   ]
  },
  {
   "cell_type": "code",
   "execution_count": null,
   "id": "8b37ab97-33ce-4868-ba86-733efa5bd095",
   "metadata": {},
   "outputs": [],
   "source": []
  }
 ],
 "metadata": {
  "kernelspec": {
   "display_name": "Python 3 (ipykernel)",
   "language": "python",
   "name": "python3"
  },
  "language_info": {
   "codemirror_mode": {
    "name": "ipython",
    "version": 3
   },
   "file_extension": ".py",
   "mimetype": "text/x-python",
   "name": "python",
   "nbconvert_exporter": "python",
   "pygments_lexer": "ipython3",
   "version": "3.12.2"
  }
 },
 "nbformat": 4,
 "nbformat_minor": 5
}
