{
 "cells": [
  {
   "cell_type": "code",
   "execution_count": 1,
   "id": "e94517c9-88e0-4da2-9b7f-e863b508a31f",
   "metadata": {},
   "outputs": [
    {
     "ename": "ModuleNotFoundError",
     "evalue": "No module named 'statsmodels'",
     "output_type": "error",
     "traceback": [
      "\u001b[1;31m---------------------------------------------------------------------------\u001b[0m",
      "\u001b[1;31mModuleNotFoundError\u001b[0m                       Traceback (most recent call last)",
      "Cell \u001b[1;32mIn[1], line 6\u001b[0m\n\u001b[0;32m      4\u001b[0m \u001b[38;5;28;01mimport\u001b[39;00m \u001b[38;5;21;01mnumpy\u001b[39;00m \u001b[38;5;28;01mas\u001b[39;00m \u001b[38;5;21;01mnp\u001b[39;00m\n\u001b[0;32m      5\u001b[0m \u001b[38;5;28;01mfrom\u001b[39;00m \u001b[38;5;21;01msklearn\u001b[39;00m\u001b[38;5;21;01m.\u001b[39;00m\u001b[38;5;21;01mmetrics\u001b[39;00m \u001b[38;5;28;01mimport\u001b[39;00m mean_squared_error\n\u001b[1;32m----> 6\u001b[0m \u001b[38;5;28;01mfrom\u001b[39;00m \u001b[38;5;21;01mstatsmodels\u001b[39;00m\u001b[38;5;21;01m.\u001b[39;00m\u001b[38;5;21;01mtsa\u001b[39;00m\u001b[38;5;21;01m.\u001b[39;00m\u001b[38;5;21;01mstattools\u001b[39;00m \u001b[38;5;28;01mimport\u001b[39;00m adfuller\n\u001b[0;32m      7\u001b[0m \u001b[38;5;28;01mfrom\u001b[39;00m \u001b[38;5;21;01mpmdarima\u001b[39;00m \u001b[38;5;28;01mimport\u001b[39;00m auto_arima\n\u001b[0;32m      8\u001b[0m \u001b[38;5;28;01mfrom\u001b[39;00m \u001b[38;5;21;01mstatsmodels\u001b[39;00m\u001b[38;5;21;01m.\u001b[39;00m\u001b[38;5;21;01mtsa\u001b[39;00m\u001b[38;5;21;01m.\u001b[39;00m\u001b[38;5;21;01marima\u001b[39;00m\u001b[38;5;21;01m.\u001b[39;00m\u001b[38;5;21;01mmodel\u001b[39;00m \u001b[38;5;28;01mimport\u001b[39;00m ARIMA\n",
      "\u001b[1;31mModuleNotFoundError\u001b[0m: No module named 'statsmodels'"
     ]
    }
   ],
   "source": [
    "import warnings\n",
    "warnings.filterwarnings(\"ignore\")\n",
    "import pandas as pd\n",
    "import numpy as np\n",
    "from sklearn.metrics import mean_squared_error\n",
    "from statsmodels.tsa.stattools import adfuller\n",
    "from pmdarima import auto_arima\n",
    "from statsmodels.tsa.arima.model import ARIMA"
   ]
  },
  {
   "cell_type": "code",
   "execution_count": null,
   "id": "04418335-249e-488e-bd04-a6371e770470",
   "metadata": {},
   "outputs": [],
   "source": [
    "wdata = pd.read_excel('../DataPreProcessing/wdata.xlsx' , index_col = 'Date' , parse_dates = True)"
   ]
  },
  {
   "cell_type": "code",
   "execution_count": null,
   "id": "61407ff4-bb05-4626-b8a9-8086d7df717a",
   "metadata": {},
   "outputs": [],
   "source": [
    "# ad_test(wdata['temperature_2m (°C)'])"
   ]
  },
  {
   "cell_type": "code",
   "execution_count": null,
   "id": "2eb252e4-7536-499b-b866-dfbfe7dc5bb3",
   "metadata": {},
   "outputs": [],
   "source": [
    "stepwise_fit = auto_arima(wdata['temperature_2m (°C)'], trace=True , supress_warnings=True)\n",
    "stepwise_fit.summary()"
   ]
  },
  {
   "cell_type": "code",
   "execution_count": null,
   "id": "905cda7b-211b-4454-b020-e918482cae5e",
   "metadata": {},
   "outputs": [],
   "source": [
    "stepwise_fit.order"
   ]
  },
  {
   "cell_type": "code",
   "execution_count": null,
   "id": "3ebb358e-4d9f-4d6c-a49a-f9809bd5c7b8",
   "metadata": {},
   "outputs": [],
   "source": [
    "train = pd.read_excel('../DataPreProcessing/ptrain.xlsx' , index_col = 'Date' , parse_dates = True)\n",
    "test = pd.read_excel('../DataPreProcessing/ptest.xlsx', index_col = 'Date' , parse_dates = True)"
   ]
  },
  {
   "cell_type": "code",
   "execution_count": null,
   "id": "3d8bc736-98b0-4be0-954d-0e935db0d1e8",
   "metadata": {},
   "outputs": [],
   "source": [
    "arima = ARIMA(train['temperature_2m (°C)'] , order = stepwise_fit.order)\n",
    "arima = arima.fit()"
   ]
  },
  {
   "cell_type": "code",
   "execution_count": null,
   "id": "120ca0fb-f6a2-4a74-aa9f-17b33885e67e",
   "metadata": {},
   "outputs": [],
   "source": [
    "start = len(train)\n",
    "end = len(wdata)+1"
   ]
  },
  {
   "cell_type": "code",
   "execution_count": null,
   "id": "aee76b37-3cbd-4333-bd22-da2b10c6f2b7",
   "metadata": {},
   "outputs": [],
   "source": [
    "pred = arima.predict(start = start , end = end , type = 'levels')\n",
    "pred"
   ]
  },
  {
   "cell_type": "code",
   "execution_count": null,
   "id": "219a36f5-f14e-4da6-a432-cde77b163a80",
   "metadata": {},
   "outputs": [],
   "source": [
    "arima = ARIMA(wdata['temperature_2m (°C)'] , order = stepwise_fit.order)\n",
    "arima = arima.fit()"
   ]
  },
  {
   "cell_type": "code",
   "execution_count": null,
   "id": "4c09e8d7-ba58-4d64-88f1-5f4bc10433aa",
   "metadata": {},
   "outputs": [],
   "source": [
    "# forecast = arima.forecast(steps=365)\n",
    "# forecast"
   ]
  },
  {
   "cell_type": "code",
   "execution_count": null,
   "id": "40513d8a-9d69-49ba-8998-69d1ebb99d45",
   "metadata": {},
   "outputs": [],
   "source": []
  }
 ],
 "metadata": {
  "kernelspec": {
   "display_name": "Python 3 (ipykernel)",
   "language": "python",
   "name": "python3"
  },
  "language_info": {
   "codemirror_mode": {
    "name": "ipython",
    "version": 3
   },
   "file_extension": ".py",
   "mimetype": "text/x-python",
   "name": "python",
   "nbconvert_exporter": "python",
   "pygments_lexer": "ipython3",
   "version": "3.12.2"
  }
 },
 "nbformat": 4,
 "nbformat_minor": 5
}
