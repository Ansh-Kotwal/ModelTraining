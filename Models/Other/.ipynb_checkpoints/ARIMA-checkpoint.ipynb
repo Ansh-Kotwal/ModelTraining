{
 "cells": [
  {
   "cell_type": "code",
   "execution_count": 1,
   "id": "e94517c9-88e0-4da2-9b7f-e863b508a31f",
   "metadata": {},
   "outputs": [],
   "source": [
    "import pandas as pd\n",
    "import numpy as np\n",
    "from sklearn.metrics import mean_squared_error"
   ]
  },
  {
   "cell_type": "code",
   "execution_count": 2,
   "id": "04418335-249e-488e-bd04-a6371e770470",
   "metadata": {},
   "outputs": [],
   "source": [
    "wdata = pd.read_excel('../DataPreProcessing/wdata.xlsx' , index_col = 'Date' , parse_dates = True)"
   ]
  },
  {
   "cell_type": "code",
   "execution_count": 3,
   "id": "47178d42-e5ca-427f-aa3e-e4a338e02207",
   "metadata": {},
   "outputs": [],
   "source": [
    "from statsmodels.tsa.stattools import adfuller"
   ]
  },
  {
   "cell_type": "code",
   "execution_count": 4,
   "id": "bd22da8c-7849-409b-a516-189e1e6b5650",
   "metadata": {},
   "outputs": [],
   "source": [
    "def ad_test(dataset):\n",
    "    dftest = adfuller(dataset , autolag = 'bic')\n",
    "    print('1. ADF', dftest[0])\n",
    "    print('2. P- Value', dftest[1])\n",
    "    print('3 Num of Lags ', dftest[2])\n",
    "    print('4 No. od observations used ', dftest[3])\n",
    "    print('5 . Critical Values ')\n",
    "    for key, val in dftest[4].items():\n",
    "        print('\\t', key , \": \", val)"
   ]
  },
  {
   "cell_type": "code",
   "execution_count": 5,
   "id": "61407ff4-bb05-4626-b8a9-8086d7df717a",
   "metadata": {},
   "outputs": [
    {
     "name": "stdout",
     "output_type": "stream",
     "text": [
      "1. ADF -5.38255676195106\n",
      "2. P- Value 3.6849750252869432e-06\n",
      "3 Num of Lags  6\n",
      "4 No. od observations used  8820\n",
      "5 . Critical Values \n",
      "\t 1% :  -3.431091633128763\n",
      "\t 5% :  -2.8618677528979655\n",
      "\t 10% :  -2.5669444578776335\n"
     ]
    }
   ],
   "source": [
    "ad_test(wdata['temperature_2m (°C)'])"
   ]
  },
  {
   "cell_type": "code",
   "execution_count": 6,
   "id": "fb0e75d2-28d6-42f0-9c68-0792b28f6579",
   "metadata": {},
   "outputs": [],
   "source": [
    "from pmdarima import auto_arima\n",
    "import warnings\n",
    "warnings.filterwarnings(\"ignore\")"
   ]
  },
  {
   "cell_type": "code",
   "execution_count": 7,
   "id": "2eb252e4-7536-499b-b866-dfbfe7dc5bb3",
   "metadata": {},
   "outputs": [
    {
     "name": "stdout",
     "output_type": "stream",
     "text": [
      "Performing stepwise search to minimize aic\n",
      " ARIMA(2,0,2)(0,0,0)[0] intercept   : AIC=24776.771, Time=4.73 sec\n",
      " ARIMA(0,0,0)(0,0,0)[0] intercept   : AIC=57024.008, Time=0.09 sec\n",
      " ARIMA(1,0,0)(0,0,0)[0] intercept   : AIC=25078.519, Time=0.26 sec\n",
      " ARIMA(0,0,1)(0,0,0)[0] intercept   : AIC=46609.238, Time=0.52 sec\n",
      " ARIMA(0,0,0)(0,0,0)[0]             : AIC=79062.962, Time=0.05 sec\n",
      " ARIMA(1,0,2)(0,0,0)[0] intercept   : AIC=24954.211, Time=1.71 sec\n",
      " ARIMA(2,0,1)(0,0,0)[0] intercept   : AIC=25043.577, Time=3.03 sec\n",
      " ARIMA(3,0,2)(0,0,0)[0] intercept   : AIC=24754.079, Time=6.52 sec\n",
      " ARIMA(3,0,1)(0,0,0)[0] intercept   : AIC=24760.798, Time=4.02 sec\n",
      " ARIMA(4,0,2)(0,0,0)[0] intercept   : AIC=24764.761, Time=3.73 sec\n",
      " ARIMA(3,0,3)(0,0,0)[0] intercept   : AIC=24756.905, Time=6.75 sec\n",
      " ARIMA(2,0,3)(0,0,0)[0] intercept   : AIC=24764.950, Time=5.75 sec\n",
      " ARIMA(4,0,1)(0,0,0)[0] intercept   : AIC=24757.361, Time=4.66 sec\n",
      " ARIMA(4,0,3)(0,0,0)[0] intercept   : AIC=24757.634, Time=6.36 sec\n",
      " ARIMA(3,0,2)(0,0,0)[0]             : AIC=25092.790, Time=3.75 sec\n",
      "\n",
      "Best model:  ARIMA(3,0,2)(0,0,0)[0] intercept\n",
      "Total fit time: 51.963 seconds\n"
     ]
    },
    {
     "data": {
      "text/html": [
       "<table class=\"simpletable\">\n",
       "<caption>SARIMAX Results</caption>\n",
       "<tr>\n",
       "  <th>Dep. Variable:</th>           <td>y</td>        <th>  No. Observations:  </th>    <td>8827</td>   \n",
       "</tr>\n",
       "<tr>\n",
       "  <th>Model:</th>           <td>SARIMAX(3, 0, 2)</td> <th>  Log Likelihood     </th> <td>-12370.040</td>\n",
       "</tr>\n",
       "<tr>\n",
       "  <th>Date:</th>            <td>Thu, 14 Mar 2024</td> <th>  AIC                </th>  <td>24754.079</td>\n",
       "</tr>\n",
       "<tr>\n",
       "  <th>Time:</th>                <td>22:07:18</td>     <th>  BIC                </th>  <td>24803.678</td>\n",
       "</tr>\n",
       "<tr>\n",
       "  <th>Sample:</th>             <td>01-01-2000</td>    <th>  HQIC               </th>  <td>24770.973</td>\n",
       "</tr>\n",
       "<tr>\n",
       "  <th></th>                   <td>- 03-01-2024</td>   <th>                     </th>      <td> </td>    \n",
       "</tr>\n",
       "<tr>\n",
       "  <th>Covariance Type:</th>        <td>opg</td>       <th>                     </th>      <td> </td>    \n",
       "</tr>\n",
       "</table>\n",
       "<table class=\"simpletable\">\n",
       "<tr>\n",
       "      <td></td>         <th>coef</th>     <th>std err</th>      <th>z</th>      <th>P>|z|</th>  <th>[0.025</th>    <th>0.975]</th>  \n",
       "</tr>\n",
       "<tr>\n",
       "  <th>intercept</th> <td>    0.0370</td> <td>    0.009</td> <td>    4.328</td> <td> 0.000</td> <td>    0.020</td> <td>    0.054</td>\n",
       "</tr>\n",
       "<tr>\n",
       "  <th>ar.L1</th>     <td>    2.0031</td> <td>    0.064</td> <td>   31.238</td> <td> 0.000</td> <td>    1.877</td> <td>    2.129</td>\n",
       "</tr>\n",
       "<tr>\n",
       "  <th>ar.L2</th>     <td>   -1.3583</td> <td>    0.116</td> <td>  -11.692</td> <td> 0.000</td> <td>   -1.586</td> <td>   -1.131</td>\n",
       "</tr>\n",
       "<tr>\n",
       "  <th>ar.L3</th>     <td>    0.3534</td> <td>    0.054</td> <td>    6.553</td> <td> 0.000</td> <td>    0.248</td> <td>    0.459</td>\n",
       "</tr>\n",
       "<tr>\n",
       "  <th>ma.L1</th>     <td>   -1.0066</td> <td>    0.066</td> <td>  -15.199</td> <td> 0.000</td> <td>   -1.136</td> <td>   -0.877</td>\n",
       "</tr>\n",
       "<tr>\n",
       "  <th>ma.L2</th>     <td>    0.2273</td> <td>    0.061</td> <td>    3.726</td> <td> 0.000</td> <td>    0.108</td> <td>    0.347</td>\n",
       "</tr>\n",
       "<tr>\n",
       "  <th>sigma2</th>    <td>    0.9651</td> <td>    0.011</td> <td>   85.043</td> <td> 0.000</td> <td>    0.943</td> <td>    0.987</td>\n",
       "</tr>\n",
       "</table>\n",
       "<table class=\"simpletable\">\n",
       "<tr>\n",
       "  <th>Ljung-Box (L1) (Q):</th>     <td>0.04</td> <th>  Jarque-Bera (JB):  </th> <td>1346.62</td>\n",
       "</tr>\n",
       "<tr>\n",
       "  <th>Prob(Q):</th>                <td>0.83</td> <th>  Prob(JB):          </th>  <td>0.00</td>  \n",
       "</tr>\n",
       "<tr>\n",
       "  <th>Heteroskedasticity (H):</th> <td>1.45</td> <th>  Skew:              </th>  <td>-0.44</td> \n",
       "</tr>\n",
       "<tr>\n",
       "  <th>Prob(H) (two-sided):</th>    <td>0.00</td> <th>  Kurtosis:          </th>  <td>4.70</td>  \n",
       "</tr>\n",
       "</table><br/><br/>Warnings:<br/>[1] Covariance matrix calculated using the outer product of gradients (complex-step)."
      ],
      "text/latex": [
       "\\begin{center}\n",
       "\\begin{tabular}{lclc}\n",
       "\\toprule\n",
       "\\textbf{Dep. Variable:}          &        y         & \\textbf{  No. Observations:  } &    8827     \\\\\n",
       "\\textbf{Model:}                  & SARIMAX(3, 0, 2) & \\textbf{  Log Likelihood     } & -12370.040  \\\\\n",
       "\\textbf{Date:}                   & Thu, 14 Mar 2024 & \\textbf{  AIC                } & 24754.079   \\\\\n",
       "\\textbf{Time:}                   &     22:07:18     & \\textbf{  BIC                } & 24803.678   \\\\\n",
       "\\textbf{Sample:}                 &    01-01-2000    & \\textbf{  HQIC               } & 24770.973   \\\\\n",
       "\\textbf{}                        &   - 03-01-2024   & \\textbf{                     } &             \\\\\n",
       "\\textbf{Covariance Type:}        &       opg        & \\textbf{                     } &             \\\\\n",
       "\\bottomrule\n",
       "\\end{tabular}\n",
       "\\begin{tabular}{lcccccc}\n",
       "                   & \\textbf{coef} & \\textbf{std err} & \\textbf{z} & \\textbf{P$> |$z$|$} & \\textbf{[0.025} & \\textbf{0.975]}  \\\\\n",
       "\\midrule\n",
       "\\textbf{intercept} &       0.0370  &        0.009     &     4.328  &         0.000        &        0.020    &        0.054     \\\\\n",
       "\\textbf{ar.L1}     &       2.0031  &        0.064     &    31.238  &         0.000        &        1.877    &        2.129     \\\\\n",
       "\\textbf{ar.L2}     &      -1.3583  &        0.116     &   -11.692  &         0.000        &       -1.586    &       -1.131     \\\\\n",
       "\\textbf{ar.L3}     &       0.3534  &        0.054     &     6.553  &         0.000        &        0.248    &        0.459     \\\\\n",
       "\\textbf{ma.L1}     &      -1.0066  &        0.066     &   -15.199  &         0.000        &       -1.136    &       -0.877     \\\\\n",
       "\\textbf{ma.L2}     &       0.2273  &        0.061     &     3.726  &         0.000        &        0.108    &        0.347     \\\\\n",
       "\\textbf{sigma2}    &       0.9651  &        0.011     &    85.043  &         0.000        &        0.943    &        0.987     \\\\\n",
       "\\bottomrule\n",
       "\\end{tabular}\n",
       "\\begin{tabular}{lclc}\n",
       "\\textbf{Ljung-Box (L1) (Q):}     & 0.04 & \\textbf{  Jarque-Bera (JB):  } & 1346.62  \\\\\n",
       "\\textbf{Prob(Q):}                & 0.83 & \\textbf{  Prob(JB):          } &   0.00   \\\\\n",
       "\\textbf{Heteroskedasticity (H):} & 1.45 & \\textbf{  Skew:              } &  -0.44   \\\\\n",
       "\\textbf{Prob(H) (two-sided):}    & 0.00 & \\textbf{  Kurtosis:          } &   4.70   \\\\\n",
       "\\bottomrule\n",
       "\\end{tabular}\n",
       "%\\caption{SARIMAX Results}\n",
       "\\end{center}\n",
       "\n",
       "Warnings: \\newline\n",
       " [1] Covariance matrix calculated using the outer product of gradients (complex-step)."
      ],
      "text/plain": [
       "<class 'statsmodels.iolib.summary.Summary'>\n",
       "\"\"\"\n",
       "                               SARIMAX Results                                \n",
       "==============================================================================\n",
       "Dep. Variable:                      y   No. Observations:                 8827\n",
       "Model:               SARIMAX(3, 0, 2)   Log Likelihood              -12370.040\n",
       "Date:                Thu, 14 Mar 2024   AIC                          24754.079\n",
       "Time:                        22:07:18   BIC                          24803.678\n",
       "Sample:                    01-01-2000   HQIC                         24770.973\n",
       "                         - 03-01-2024                                         \n",
       "Covariance Type:                  opg                                         \n",
       "==============================================================================\n",
       "                 coef    std err          z      P>|z|      [0.025      0.975]\n",
       "------------------------------------------------------------------------------\n",
       "intercept      0.0370      0.009      4.328      0.000       0.020       0.054\n",
       "ar.L1          2.0031      0.064     31.238      0.000       1.877       2.129\n",
       "ar.L2         -1.3583      0.116    -11.692      0.000      -1.586      -1.131\n",
       "ar.L3          0.3534      0.054      6.553      0.000       0.248       0.459\n",
       "ma.L1         -1.0066      0.066    -15.199      0.000      -1.136      -0.877\n",
       "ma.L2          0.2273      0.061      3.726      0.000       0.108       0.347\n",
       "sigma2         0.9651      0.011     85.043      0.000       0.943       0.987\n",
       "===================================================================================\n",
       "Ljung-Box (L1) (Q):                   0.04   Jarque-Bera (JB):              1346.62\n",
       "Prob(Q):                              0.83   Prob(JB):                         0.00\n",
       "Heteroskedasticity (H):               1.45   Skew:                            -0.44\n",
       "Prob(H) (two-sided):                  0.00   Kurtosis:                         4.70\n",
       "===================================================================================\n",
       "\n",
       "Warnings:\n",
       "[1] Covariance matrix calculated using the outer product of gradients (complex-step).\n",
       "\"\"\""
      ]
     },
     "execution_count": 7,
     "metadata": {},
     "output_type": "execute_result"
    }
   ],
   "source": [
    "stepwise_fit = auto_arima(wdata['temperature_2m (°C)'], trace=True , supress_warnings=True)\n",
    "stepwise_fit.summary()"
   ]
  },
  {
   "cell_type": "code",
   "execution_count": 8,
   "id": "905cda7b-211b-4454-b020-e918482cae5e",
   "metadata": {},
   "outputs": [
    {
     "data": {
      "text/plain": [
       "(3, 0, 2)"
      ]
     },
     "execution_count": 8,
     "metadata": {},
     "output_type": "execute_result"
    }
   ],
   "source": [
    "stepwise_fit.order"
   ]
  },
  {
   "cell_type": "code",
   "execution_count": 9,
   "id": "91fc0748-7b17-46fc-a5ff-f0edf8e90dc3",
   "metadata": {},
   "outputs": [],
   "source": [
    " # from statsmodels.tsa.arima_model import ARIMA\n",
    "from statsmodels.tsa.arima.model import ARIMA"
   ]
  },
  {
   "cell_type": "code",
   "execution_count": 10,
   "id": "3ebb358e-4d9f-4d6c-a49a-f9809bd5c7b8",
   "metadata": {},
   "outputs": [],
   "source": [
    "train = pd.read_excel('../DataPreProcessing/ptrain.xlsx' , index_col = 'Date' , parse_dates = True)\n",
    "test = pd.read_excel('../DataPreProcessing/ptest.xlsx', index_col = 'Date' , parse_dates = True)"
   ]
  },
  {
   "cell_type": "code",
   "execution_count": 11,
   "id": "3d8bc736-98b0-4be0-954d-0e935db0d1e8",
   "metadata": {},
   "outputs": [],
   "source": [
    "arima = ARIMA(train['temperature_2m (°C)'] , order = stepwise_fit.order)\n",
    "arima = arima.fit()"
   ]
  },
  {
   "cell_type": "code",
   "execution_count": 12,
   "id": "120ca0fb-f6a2-4a74-aa9f-17b33885e67e",
   "metadata": {},
   "outputs": [],
   "source": [
    "start = len(train)\n",
    "end = len(wdata)+1"
   ]
  },
  {
   "cell_type": "code",
   "execution_count": 13,
   "id": "aee76b37-3cbd-4333-bd22-da2b10c6f2b7",
   "metadata": {},
   "outputs": [
    {
     "data": {
      "text/plain": [
       "2019-03-02    13.454039\n",
       "2019-03-03    13.420265\n",
       "2019-03-04    13.203207\n",
       "2019-03-05    13.015320\n",
       "2019-03-06    12.916538\n",
       "                ...    \n",
       "2024-02-28    19.366866\n",
       "2024-02-29    19.366869\n",
       "2024-03-01    19.366872\n",
       "2024-03-02    19.366875\n",
       "2024-03-03    19.366878\n",
       "Freq: D, Name: predicted_mean, Length: 1829, dtype: float64"
      ]
     },
     "execution_count": 13,
     "metadata": {},
     "output_type": "execute_result"
    }
   ],
   "source": [
    "pred = arima.predict(start = start , end = end , type = 'levels')\n",
    "pred"
   ]
  },
  {
   "cell_type": "code",
   "execution_count": 14,
   "id": "63cefbf6-2780-4422-a315-d2af90173ea2",
   "metadata": {},
   "outputs": [],
   "source": [
    "# from sklearn.metrics import mean_squared_error\n",
    "# mse_train = mean_squared_error(test['temperature_2m (°C)'], pred)\n",
    "# print(f'Mean Squared Error: {mse_train}')"
   ]
  },
  {
   "cell_type": "code",
   "execution_count": 15,
   "id": "219a36f5-f14e-4da6-a432-cde77b163a80",
   "metadata": {},
   "outputs": [],
   "source": [
    "arima = ARIMA(wdata['temperature_2m (°C)'] , order = stepwise_fit.order)\n",
    "arima = arima.fit()"
   ]
  },
  {
   "cell_type": "code",
   "execution_count": 16,
   "id": "4c09e8d7-ba58-4d64-88f1-5f4bc10433aa",
   "metadata": {},
   "outputs": [
    {
     "data": {
      "text/plain": [
       "2024-03-02    16.427512\n",
       "2024-03-03    15.984617\n",
       "2024-03-04    15.662663\n",
       "2024-03-05    15.503901\n",
       "2024-03-06    15.466687\n",
       "                ...    \n",
       "2025-02-25    19.456501\n",
       "2025-02-26    19.460174\n",
       "2025-02-27    19.463828\n",
       "2025-02-28    19.467462\n",
       "2025-03-01    19.471077\n",
       "Freq: D, Name: predicted_mean, Length: 365, dtype: float64"
      ]
     },
     "execution_count": 16,
     "metadata": {},
     "output_type": "execute_result"
    }
   ],
   "source": [
    "\n",
    "forecast = arima.forecast(steps=365)\n",
    "forecast"
   ]
  },
  {
   "cell_type": "code",
   "execution_count": null,
   "id": "40513d8a-9d69-49ba-8998-69d1ebb99d45",
   "metadata": {},
   "outputs": [],
   "source": []
  }
 ],
 "metadata": {
  "kernelspec": {
   "display_name": "Python 3 (ipykernel)",
   "language": "python",
   "name": "python3"
  },
  "language_info": {
   "codemirror_mode": {
    "name": "ipython",
    "version": 3
   },
   "file_extension": ".py",
   "mimetype": "text/x-python",
   "name": "python",
   "nbconvert_exporter": "python",
   "pygments_lexer": "ipython3",
   "version": "3.11.3"
  }
 },
 "nbformat": 4,
 "nbformat_minor": 5
}
